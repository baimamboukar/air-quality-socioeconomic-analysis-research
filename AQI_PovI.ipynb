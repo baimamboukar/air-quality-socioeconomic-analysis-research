{
  "cells": [
    {
      "cell_type": "code",
      "execution_count": 9,
      "metadata": {
        "id": "2yDwxcSgl351"
      },
      "outputs": [],
      "source": [
        "import pandas as pd\n",
        "from sklearn.preprocessing import StandardScaler\n",
        "import matplotlib.pyplot as plt"
      ]
    },
    {
      "cell_type": "code",
      "execution_count": 10,
      "metadata": {
        "colab": {
          "base_uri": "https://localhost:8080/",
          "height": 313
        },
        "id": "WUPu6Z4wmRMs",
        "outputId": "2a410109-35d6-4884-9557-cad81a03c19d"
      },
      "outputs": [
        {
          "data": {
            "text/html": [
              "<div>\n",
              "<style scoped>\n",
              "    .dataframe tbody tr th:only-of-type {\n",
              "        vertical-align: middle;\n",
              "    }\n",
              "\n",
              "    .dataframe tbody tr th {\n",
              "        vertical-align: top;\n",
              "    }\n",
              "\n",
              "    .dataframe thead th {\n",
              "        text-align: right;\n",
              "    }\n",
              "</style>\n",
              "<table border=\"1\" class=\"dataframe\">\n",
              "  <thead>\n",
              "    <tr style=\"text-align: right;\">\n",
              "      <th></th>\n",
              "      <th>Dist_ID</th>\n",
              "      <th>District</th>\n",
              "      <th>Name</th>\n",
              "      <th>Prov_ID</th>\n",
              "      <th>Province</th>\n",
              "      <th>Sect_ID</th>\n",
              "      <th>NO2_mean</th>\n",
              "      <th>year</th>\n",
              "      <th>month</th>\n",
              "      <th>date</th>\n",
              "      <th>CO_mean</th>\n",
              "      <th>SO2_mean</th>\n",
              "      <th>O3_mean</th>\n",
              "      <th>AER_mean</th>\n",
              "      <th>CH4_mean</th>\n",
              "      <th>poor_percent</th>\n",
              "      <th>avg_deprivation_intensity</th>\n",
              "      <th>poverty_index</th>\n",
              "    </tr>\n",
              "  </thead>\n",
              "  <tbody>\n",
              "    <tr>\n",
              "      <th>0</th>\n",
              "      <td>11</td>\n",
              "      <td>Nyarugenge</td>\n",
              "      <td>Gitega</td>\n",
              "      <td>1</td>\n",
              "      <td>Kigali City</td>\n",
              "      <td>1101</td>\n",
              "      <td>0.000041</td>\n",
              "      <td>2020</td>\n",
              "      <td>1</td>\n",
              "      <td>2020-01</td>\n",
              "      <td>0.038910</td>\n",
              "      <td>-4.553785e-05</td>\n",
              "      <td>0.111056</td>\n",
              "      <td>-1.252367</td>\n",
              "      <td>NaN</td>\n",
              "      <td>0.025</td>\n",
              "      <td>0.394</td>\n",
              "      <td>0.010</td>\n",
              "    </tr>\n",
              "    <tr>\n",
              "      <th>1</th>\n",
              "      <td>11</td>\n",
              "      <td>Nyarugenge</td>\n",
              "      <td>Gitega</td>\n",
              "      <td>1</td>\n",
              "      <td>Kigali City</td>\n",
              "      <td>1101</td>\n",
              "      <td>0.000039</td>\n",
              "      <td>2020</td>\n",
              "      <td>2</td>\n",
              "      <td>2020-02</td>\n",
              "      <td>0.034758</td>\n",
              "      <td>-6.027024e-07</td>\n",
              "      <td>0.113404</td>\n",
              "      <td>-1.377423</td>\n",
              "      <td>NaN</td>\n",
              "      <td>0.157</td>\n",
              "      <td>0.410</td>\n",
              "      <td>0.065</td>\n",
              "    </tr>\n",
              "    <tr>\n",
              "      <th>2</th>\n",
              "      <td>11</td>\n",
              "      <td>Nyarugenge</td>\n",
              "      <td>Gitega</td>\n",
              "      <td>1</td>\n",
              "      <td>Kigali City</td>\n",
              "      <td>1101</td>\n",
              "      <td>0.000038</td>\n",
              "      <td>2020</td>\n",
              "      <td>3</td>\n",
              "      <td>2020-03</td>\n",
              "      <td>0.035565</td>\n",
              "      <td>1.019581e-05</td>\n",
              "      <td>0.116727</td>\n",
              "      <td>-1.524711</td>\n",
              "      <td>NaN</td>\n",
              "      <td>0.143</td>\n",
              "      <td>0.411</td>\n",
              "      <td>0.059</td>\n",
              "    </tr>\n",
              "    <tr>\n",
              "      <th>3</th>\n",
              "      <td>11</td>\n",
              "      <td>Nyarugenge</td>\n",
              "      <td>Gitega</td>\n",
              "      <td>1</td>\n",
              "      <td>Kigali City</td>\n",
              "      <td>1101</td>\n",
              "      <td>0.000038</td>\n",
              "      <td>2020</td>\n",
              "      <td>4</td>\n",
              "      <td>2020-04</td>\n",
              "      <td>0.031162</td>\n",
              "      <td>3.465083e-04</td>\n",
              "      <td>0.116457</td>\n",
              "      <td>-1.392731</td>\n",
              "      <td>NaN</td>\n",
              "      <td>0.039</td>\n",
              "      <td>0.398</td>\n",
              "      <td>0.015</td>\n",
              "    </tr>\n",
              "    <tr>\n",
              "      <th>4</th>\n",
              "      <td>11</td>\n",
              "      <td>Nyarugenge</td>\n",
              "      <td>Gitega</td>\n",
              "      <td>1</td>\n",
              "      <td>Kigali City</td>\n",
              "      <td>1101</td>\n",
              "      <td>0.000043</td>\n",
              "      <td>2020</td>\n",
              "      <td>5</td>\n",
              "      <td>2020-05</td>\n",
              "      <td>0.027599</td>\n",
              "      <td>4.715642e-05</td>\n",
              "      <td>0.114809</td>\n",
              "      <td>-1.535792</td>\n",
              "      <td>NaN</td>\n",
              "      <td>0.250</td>\n",
              "      <td>0.426</td>\n",
              "      <td>0.107</td>\n",
              "    </tr>\n",
              "  </tbody>\n",
              "</table>\n",
              "</div>"
            ],
            "text/plain": [
              "   Dist_ID    District    Name  Prov_ID     Province  Sect_ID  NO2_mean  year  \\\n",
              "0       11  Nyarugenge  Gitega        1  Kigali City     1101  0.000041  2020   \n",
              "1       11  Nyarugenge  Gitega        1  Kigali City     1101  0.000039  2020   \n",
              "2       11  Nyarugenge  Gitega        1  Kigali City     1101  0.000038  2020   \n",
              "3       11  Nyarugenge  Gitega        1  Kigali City     1101  0.000038  2020   \n",
              "4       11  Nyarugenge  Gitega        1  Kigali City     1101  0.000043  2020   \n",
              "\n",
              "   month     date   CO_mean      SO2_mean   O3_mean  AER_mean  CH4_mean  \\\n",
              "0      1  2020-01  0.038910 -4.553785e-05  0.111056 -1.252367       NaN   \n",
              "1      2  2020-02  0.034758 -6.027024e-07  0.113404 -1.377423       NaN   \n",
              "2      3  2020-03  0.035565  1.019581e-05  0.116727 -1.524711       NaN   \n",
              "3      4  2020-04  0.031162  3.465083e-04  0.116457 -1.392731       NaN   \n",
              "4      5  2020-05  0.027599  4.715642e-05  0.114809 -1.535792       NaN   \n",
              "\n",
              "   poor_percent  avg_deprivation_intensity  poverty_index  \n",
              "0         0.025                      0.394          0.010  \n",
              "1         0.157                      0.410          0.065  \n",
              "2         0.143                      0.411          0.059  \n",
              "3         0.039                      0.398          0.015  \n",
              "4         0.250                      0.426          0.107  "
            ]
          },
          "execution_count": 10,
          "metadata": {},
          "output_type": "execute_result"
        }
      ],
      "source": [
        "air_df = pd.read_csv('final_air_quality.csv')\n",
        "air_df.head()"
      ]
    },
    {
      "cell_type": "code",
      "execution_count": 11,
      "metadata": {
        "colab": {
          "base_uri": "https://localhost:8080/"
        },
        "id": "rprVargsmgC7",
        "outputId": "37ce3365-b381-4514-cc4e-274b64655c7b"
      },
      "outputs": [
        {
          "name": "stdout",
          "output_type": "stream",
          "text": [
            "<class 'pandas.core.frame.DataFrame'>\n",
            "RangeIndex: 25376 entries, 0 to 25375\n",
            "Data columns (total 17 columns):\n",
            " #   Column                     Non-Null Count  Dtype  \n",
            "---  ------                     --------------  -----  \n",
            " 0   Dist_ID                    25376 non-null  int64  \n",
            " 1   District                   25376 non-null  object \n",
            " 2   Name                       25376 non-null  object \n",
            " 3   Prov_ID                    25376 non-null  int64  \n",
            " 4   Province                   25376 non-null  object \n",
            " 5   Sect_ID                    25376 non-null  int64  \n",
            " 6   NO2_mean                   25376 non-null  float64\n",
            " 7   year                       25376 non-null  int64  \n",
            " 8   month                      25376 non-null  int64  \n",
            " 9   date                       25376 non-null  object \n",
            " 10  CO_mean                    25376 non-null  float64\n",
            " 11  SO2_mean                   25352 non-null  float64\n",
            " 12  O3_mean                    25376 non-null  float64\n",
            " 13  AER_mean                   25376 non-null  float64\n",
            " 14  poor_percent               416 non-null    float64\n",
            " 15  avg_deprivation_intensity  416 non-null    float64\n",
            " 16  poverty_index              416 non-null    float64\n",
            "dtypes: float64(8), int64(5), object(4)\n",
            "memory usage: 3.3+ MB\n"
          ]
        }
      ],
      "source": [
        "air_df = air_df.drop(columns=['CH4_mean'])\n",
        "air_df.info()"
      ]
    },
    {
      "cell_type": "code",
      "execution_count": 12,
      "metadata": {
        "id": "wfTkVAk1sDww"
      },
      "outputs": [],
      "source": [
        "scaler = StandardScaler()\n",
        "air_df[[\"NO2_mean\", \"SO2_mean\", \"O3_mean\", \"CO_mean\", \"AER_mean\"]] = scaler.fit_transform(\n",
        "    air_df[[\"NO2_mean\", \"SO2_mean\", \"O3_mean\", \"CO_mean\", \"AER_mean\"]]\n",
        ")"
      ]
    },
    {
      "cell_type": "code",
      "execution_count": 13,
      "metadata": {
        "id": "ksAE_3PinT2W"
      },
      "outputs": [],
      "source": [
        "scale_height = 8000\n",
        "molar_masses = {\n",
        "    \"NO2\": 46.01,\n",
        "    \"CO\": 28.01,\n",
        "    \"SO2\": 64.07,\n",
        "    \"O3\": 48.00\n",
        "}\n",
        "who_limits = {\n",
        "    \"NO2\": 10,  # µg/m³\n",
        "    \"CO\": 4,  # mg/m³\n",
        "    \"SO2\": 40,  # µg/m³\n",
        "    \"O3\": 60  # µg/m³\n",
        "}\n",
        "\n",
        "for gas in [\"NO2_mean\", \"SO2_mean\", \"O3_mean\"]:\n",
        "  gas_name = gas.replace(\"_mean\", \"\")\n",
        "  air_df[gas_name + \"_µg_m3\"] = (air_df[gas] * molar_masses[gas_name]) / scale_height\n",
        "\n",
        "air_df[\"CO_mg_m3\"] = (air_df[\"CO_mean\"] * molar_masses[\"CO\"]) / scale_height\n",
        "\n",
        "# Compute Exceedance Factor (EF)\n",
        "for gas in who_limits:\n",
        "  if gas != 'CO':\n",
        "    air_df[gas + \"_EF\"] = air_df[gas + \"_µg_m3\"] / who_limits[gas]\n",
        "  else:\n",
        "    air_df[gas + \"_EF\"] = air_df[gas + \"_mg_m3\"] / who_limits[gas]\n",
        "\n",
        "# Handle AER\n",
        "air_df[\"AER_EF\"] = (air_df[\"AER_mean\"] - air_df[\"AER_mean\"].min()) / (air_df[\"AER_mean\"].max() - air_df[\"AER_mean\"].min())\n",
        "\n",
        "# Compute AQI (Max Exceedance Approach)\n",
        "air_df[\"AQI\"] = air_df[[\"NO2_EF\", \"CO_EF\", \"SO2_EF\", \"O3_EF\", \"AER_EF\"]].max(axis=1) * 100\n",
        "\n",
        "# Save to CSV\n",
        "air_df.to_csv(\"AQI_calculated.csv\", index=False)"
      ]
    },
    {
      "cell_type": "code",
      "execution_count": 14,
      "metadata": {
        "colab": {
          "base_uri": "https://localhost:8080/"
        },
        "id": "-HouHdXwp9Q5",
        "outputId": "d7be040f-0733-4861-9b22-c3c9bdf022a9"
      },
      "outputs": [
        {
          "name": "stdout",
          "output_type": "stream",
          "text": [
            "Correlation between A and B: 0.16506930746581033\n"
          ]
        }
      ],
      "source": [
        "correlation = air_df['AQI'].corr(air_df['poverty_index'])\n",
        "\n",
        "print(f\"Correlation between A and B: {correlation}\")"
      ]
    },
    {
      "cell_type": "code",
      "execution_count": 31,
      "metadata": {
        "colab": {
          "base_uri": "https://localhost:8080/",
          "height": 564
        },
        "id": "P84w6jUgrUes",
        "outputId": "26a6f65f-dfe2-47ac-d75d-b150e01b716e"
      },
      "outputs": [
        {
          "name": "stdout",
          "output_type": "stream",
          "text": [
            "Correlation coefficient ●• 0.17\n"
          ]
        },
        {
          "data": {
            "image/png": "[encoded data removed]",
            "text/plain": [
              "<Figure size 800x600 with 1 Axes>"
            ]
          },
          "metadata": {},
          "output_type": "display_data"
        }
      ],
      "source": [
        "plt.figure(figsize=(8, 6))\n",
        "\n",
        "# set nice plt config style\n",
        "plt.style.use('ggplot')\n",
        "\n",
        "# use dejavu font\n",
        "plt.rcParams['font.family'] = 'DejaVu Sans'\n",
        "\n",
        "# multiplied = air_df['AQI'] * 100\n",
        "\n",
        "plt.scatter(air_df['poverty_index'] * 100, air_df['AQI'], color='dodgerblue')\n",
        "\n",
        "\n",
        "correlation_coefficient = air_df['poverty_index'].corr(air_df['AQI'])\n",
        "# take only 2 decimal places\n",
        "correlation_coefficient = round(correlation_coefficient, 2)\n",
        "print(f\"Correlation coefficient ●• {correlation_coefficient}\")\n",
        "\n",
        "# add correlation coefficient to plot as legend\n",
        "plt.legend(\n",
        "    [f\"Correlation coefficient ●• {correlation_coefficient}\"], loc='upper right')\n",
        "\n",
        "# add a trendline\n",
        "# z = np.polyfit(air_df['poverty_index'] * 100, air_df['AQI'], 1)\n",
        "# p = np.poly1d(z)\n",
        "# plt.plot(air_df['poverty_index'] * 100, p(air_df['poverty_index'] * 100), color='red')\n",
        "\n",
        "# print correlation coefficient\n",
        "# plt.text(0.5, 0.5, f\"Correlation coefficient: {correlation_coefficient}\", color='red', fontsize=12, transform=plt.gca().transAxes)\n",
        "\n",
        "# Adding labels and title\n",
        "\n",
        "plt.xlabel('Poverty index')\n",
        "\n",
        "plt.ylabel('Air Quality Index')\n",
        "\n",
        "plt.title('Correlation between poverty index and air quality index')\n",
        "\n",
        "\n",
        "# Show grid and legend\n",
        "\n",
        "plt.grid(True)\n",
        "\n",
        "\n",
        "# Show plot\n",
        "\n",
        "plt.show()"
      ]
    },
    {
      "cell_type": "code",
      "execution_count": null,
      "metadata": {},
      "outputs": [],
      "source": []
    }
  ],
  "metadata": {
    "colab": {
      "provenance": []
    },
    "kernelspec": {
      "display_name": "Python 3",
      "name": "python3"
    },
    "language_info": {
      "codemirror_mode": {
        "name": "ipython",
        "version": 3
      },
      "file_extension": ".py",
      "mimetype": "text/x-python",
      "name": "python",
      "nbconvert_exporter": "python",
      "pygments_lexer": "ipython3",
      "version": "3.11.9"
    }
  },
  "nbformat": 4,
  "nbformat_minor": 0
}
